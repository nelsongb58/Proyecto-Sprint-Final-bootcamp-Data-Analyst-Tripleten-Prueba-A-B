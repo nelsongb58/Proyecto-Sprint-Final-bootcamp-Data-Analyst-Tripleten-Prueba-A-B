{
 "cells": [
  {
   "cell_type": "markdown",
   "metadata": {},
   "source": [
    "¡Hola!\n",
    "\n",
    "Mi nombre es Marcos Torres y tengo el gusto de revisar tu código el día de hoy.\n",
    "\n",
    "Cuando vea algo notable o algún asunto en el notebook, te dejaré un comentario o un hint. Se que encontraras la mejor respuesta para resolver todos los comentarios, de no ser así, no te preocupes en futuras iteraciones dejaré comentarios y pistas más específicos.\n",
    "\n",
    "Encontrarás comentarios en verde, amarillo o rojo como los siguientes:\n",
    "\n",
    "<div class=\"alert alert-block alert-success\">\n",
    "<b>Comentario del revisor</b> <a class=\"tocSkip\"></a>\n",
    "\n",
    "Buen trabajo. ¡Lo hiciste muy bien!\n",
    "</div>\n",
    "\n",
    "<div class=\"alert alert-block alert-warning\">\n",
    "<b>Comentario del revisor</b> <a class=\"tocSkip\"></a>\n",
    "\n",
    "Nota. Se puede mejorar.\n",
    "</div>\n",
    "\n",
    "<div class=\"alert alert-block alert-danger\">\n",
    "<b>Comentario del revisor</b> <a class=\"tocSkip\"></a>\n",
    "\n",
    "Necesitas corregirlo. Este bloque indica que se requiere una correción. El trabajo no se acepta si tiene estos bloques.\n",
    "</div>\n",
    "\n",
    "Puedes responder a mis comentarios usando estos bloques:\n",
    "\n",
    "<div class=\"alert alert-block alert-info\">\n",
    "<b>Respuesta del estudiante.</b> <a class=\"tocSkip\"></a>\n",
    "</div>"
   ]
  },
  {
   "cell_type": "code",
   "execution_count": 1,
   "metadata": {},
   "outputs": [],
   "source": [
    "# Importacion de librerias a utilizar\n",
    "\n",
    "import pandas as pd\n",
    "import matplotlib.pyplot as plt\n",
    "import seaborn as sns\n",
    "from scipy.stats import norm"
   ]
  },
  {
   "cell_type": "code",
   "execution_count": 2,
   "metadata": {},
   "outputs": [],
   "source": [
    "#Carga de dataframe en libreria pandas\n",
    "\n",
    "df_participants = pd.read_csv(\"/datasets/final_ab_participants_upd_us.csv\")\n",
    "df_events = pd.read_csv(\"/datasets/final_ab_events_upd_us.csv\")\n",
    "df_new_users = pd.read_csv(\"/datasets/final_ab_new_users_upd_us.csv\")\n",
    "df_marketing = pd.read_csv(\"/datasets/ab_project_marketing_events_us.csv\")"
   ]
  },
  {
   "cell_type": "markdown",
   "metadata": {},
   "source": [
    "<div class=\"alert alert-block alert-success\">\n",
    "<b>Comentario del revisor</b> <a class=\"tocSkip\"></a>\n",
    "\n",
    "¡Muy bien! Usaste una celda independiente para importar las librerías y otra para leer los datos.\n",
    "</div>"
   ]
  },
  {
   "cell_type": "markdown",
   "metadata": {},
   "source": [
    "Lo primero que se realizó fue la importación de las librerías necesarias. Todas fueron importadas juntas al inicio para mantener un mejor orden en la elaboración del código."
   ]
  },
  {
   "cell_type": "code",
   "execution_count": 3,
   "metadata": {},
   "outputs": [
    {
     "name": "stdout",
     "output_type": "stream",
     "text": [
      "            user_id group                  ab_test\n",
      "0  D1ABA3E2887B6A73     A  recommender_system_test\n",
      "1  A7A3664BD6242119     A  recommender_system_test\n",
      "2  DABC14FDDFADD29E     A  recommender_system_test\n",
      "3  04988C5DF189632E     A  recommender_system_test\n",
      "4  4FF2998A348C484F     A  recommender_system_test\n",
      "\n",
      "<class 'pandas.core.frame.DataFrame'>\n",
      "RangeIndex: 14525 entries, 0 to 14524\n",
      "Data columns (total 3 columns):\n",
      " #   Column   Non-Null Count  Dtype \n",
      "---  ------   --------------  ----- \n",
      " 0   user_id  14525 non-null  object\n",
      " 1   group    14525 non-null  object\n",
      " 2   ab_test  14525 non-null  object\n",
      "dtypes: object(3)\n",
      "memory usage: 340.6+ KB\n",
      "None\n",
      "\n",
      "                 user_id  group            ab_test\n",
      "count              14525  14525              14525\n",
      "unique             13638      2                  2\n",
      "top     3FC3BE7BAA35F33F      A  interface_eu_test\n",
      "freq                   2   8214              10850\n"
     ]
    }
   ],
   "source": [
    "# Exploracion inicial dataframe Participants\n",
    "\n",
    "print(df_participants.head())\n",
    "print()\n",
    "print(df_participants.info())\n",
    "print()\n",
    "print(df_participants.describe())"
   ]
  },
  {
   "cell_type": "code",
   "execution_count": 4,
   "metadata": {},
   "outputs": [
    {
     "name": "stdout",
     "output_type": "stream",
     "text": [
      "            user_id             event_dt event_name  details\n",
      "0  E1BDDCE0DAFA2679  2020-12-07 20:22:03   purchase    99.99\n",
      "1  7B6452F081F49504  2020-12-07 09:22:53   purchase     9.99\n",
      "2  9CD9F34546DF254C  2020-12-07 12:59:29   purchase     4.99\n",
      "3  96F27A054B191457  2020-12-07 04:02:40   purchase     4.99\n",
      "4  1FD7660FDF94CA1F  2020-12-07 10:15:09   purchase     4.99\n",
      "\n",
      "<class 'pandas.core.frame.DataFrame'>\n",
      "RangeIndex: 423761 entries, 0 to 423760\n",
      "Data columns (total 4 columns):\n",
      " #   Column      Non-Null Count   Dtype  \n",
      "---  ------      --------------   -----  \n",
      " 0   user_id     423761 non-null  object \n",
      " 1   event_dt    423761 non-null  object \n",
      " 2   event_name  423761 non-null  object \n",
      " 3   details     60314 non-null   float64\n",
      "dtypes: float64(1), object(3)\n",
      "memory usage: 12.9+ MB\n",
      "None\n",
      "\n",
      "            details\n",
      "count  60314.000000\n",
      "mean      23.881219\n",
      "std       72.228884\n",
      "min        4.990000\n",
      "25%        4.990000\n",
      "50%        4.990000\n",
      "75%        9.990000\n",
      "max      499.990000\n"
     ]
    }
   ],
   "source": [
    "# Exploracion inicial dataframe Events\n",
    "\n",
    "print(df_events.head())\n",
    "print()\n",
    "print(df_events.info())\n",
    "print()\n",
    "print(df_events.describe())"
   ]
  },
  {
   "cell_type": "code",
   "execution_count": 5,
   "metadata": {},
   "outputs": [
    {
     "name": "stdout",
     "output_type": "stream",
     "text": [
      "            user_id  first_date     region   device\n",
      "0  D72A72121175D8BE  2020-12-07         EU       PC\n",
      "1  F1C668619DFE6E65  2020-12-07  N.America  Android\n",
      "2  2E1BF1D4C37EA01F  2020-12-07         EU       PC\n",
      "3  50734A22C0C63768  2020-12-07         EU   iPhone\n",
      "4  E1BDDCE0DAFA2679  2020-12-07  N.America   iPhone\n",
      "\n",
      "<class 'pandas.core.frame.DataFrame'>\n",
      "RangeIndex: 58703 entries, 0 to 58702\n",
      "Data columns (total 4 columns):\n",
      " #   Column      Non-Null Count  Dtype \n",
      "---  ------      --------------  ----- \n",
      " 0   user_id     58703 non-null  object\n",
      " 1   first_date  58703 non-null  object\n",
      " 2   region      58703 non-null  object\n",
      " 3   device      58703 non-null  object\n",
      "dtypes: object(4)\n",
      "memory usage: 1.8+ MB\n",
      "None\n",
      "\n",
      "                 user_id  first_date region   device\n",
      "count              58703       58703  58703    58703\n",
      "unique             58703          17      4        4\n",
      "top     761AC7F91571FD1B  2020-12-21     EU  Android\n",
      "freq                   1        6077  43396    26159\n"
     ]
    }
   ],
   "source": [
    "# Exploracion inicial dataframe New Users\n",
    "\n",
    "print(df_new_users.head())\n",
    "print()\n",
    "print(df_new_users.info())\n",
    "print()\n",
    "print(df_new_users.describe())"
   ]
  },
  {
   "cell_type": "code",
   "execution_count": 6,
   "metadata": {},
   "outputs": [
    {
     "name": "stdout",
     "output_type": "stream",
     "text": [
      "                           name                   regions    start_dt  \\\n",
      "0      Christmas&New Year Promo             EU, N.America  2020-12-25   \n",
      "1  St. Valentine's Day Giveaway  EU, CIS, APAC, N.America  2020-02-14   \n",
      "2        St. Patric's Day Promo             EU, N.America  2020-03-17   \n",
      "3                  Easter Promo  EU, CIS, APAC, N.America  2020-04-12   \n",
      "4             4th of July Promo                 N.America  2020-07-04   \n",
      "\n",
      "    finish_dt  \n",
      "0  2021-01-03  \n",
      "1  2020-02-16  \n",
      "2  2020-03-19  \n",
      "3  2020-04-19  \n",
      "4  2020-07-11  \n",
      "\n",
      "<class 'pandas.core.frame.DataFrame'>\n",
      "RangeIndex: 14 entries, 0 to 13\n",
      "Data columns (total 4 columns):\n",
      " #   Column     Non-Null Count  Dtype \n",
      "---  ------     --------------  ----- \n",
      " 0   name       14 non-null     object\n",
      " 1   regions    14 non-null     object\n",
      " 2   start_dt   14 non-null     object\n",
      " 3   finish_dt  14 non-null     object\n",
      "dtypes: object(4)\n",
      "memory usage: 576.0+ bytes\n",
      "None\n",
      "\n",
      "                             name regions    start_dt   finish_dt\n",
      "count                          14      14          14          14\n",
      "unique                         14       6          14          14\n",
      "top     Black Friday Ads Campaign    APAC  2020-03-17  2021-01-03\n",
      "freq                            1       4           1           1\n"
     ]
    }
   ],
   "source": [
    "# Exploracion inicial dataframe New Users\n",
    "\n",
    "print(df_marketing.head())\n",
    "print()\n",
    "print(df_marketing.info())\n",
    "print()\n",
    "print(df_marketing.describe())"
   ]
  },
  {
   "cell_type": "markdown",
   "metadata": {},
   "source": [
    "<div class=\"alert alert-block alert-success\">\n",
    "<b>Comentario del revisor</b> <a class=\"tocSkip\"></a>\n",
    "\n",
    "Buen uso de los métodos de pandas para explorar los datos.\n",
    "</div>"
   ]
  },
  {
   "cell_type": "markdown",
   "metadata": {},
   "source": [
    "Después de crear los DataFrames para cada archivo de datos, se realizó una primera revisión de los datos mediante las funciones head, info y describe, obteniendo algunos resultados interesantes.\n",
    "En el DataFrame Participants, se observa que el conjunto de datos está completo, sin valores nulos en ninguna de sus columnas. Además, los tipos de datos corresponden a los esperados, siendo todos de tipo string.\n",
    "En el DataFrame Events, hay valores vacíos en la columna details, los cuales pueden ser ignorados, ya que, según la descripción de la columna, contienen información adicional que no afectará el análisis posterior. Sin embargo, los datos de la columna event_dt están almacenados como object, lo cual debe corregirse convirtiéndolos a datetime, dado que representan fechas.\n",
    "En el DataFrame New Users, todas las columnas contienen datos completos. No obstante, al igual que en el DataFrame anterior, la columna first_date está en formato object, por lo que también debe convertirse a datetime.\n",
    "Finalmente, en el DataFrame Marketing, se requiere la misma conversión para las columnas de fecha, asegurando que todas se almacenen en formato datetime para facilitar su manipulación en el análisis."
   ]
  },
  {
   "cell_type": "code",
   "execution_count": 7,
   "metadata": {},
   "outputs": [],
   "source": [
    "# Convertir fechas al formato correcto\n",
    "df_new_users['first_date'] = pd.to_datetime(df_new_users['first_date'])\n",
    "df_events['event_dt'] = pd.to_datetime(df_events['event_dt'])\n",
    "df_marketing['start_dt'] = pd.to_datetime(df_marketing['start_dt'])\n",
    "df_marketing['finish_dt'] = pd.to_datetime(df_marketing['finish_dt'])"
   ]
  },
  {
   "cell_type": "markdown",
   "metadata": {},
   "source": [
    "<div class=\"alert alert-block alert-success\">\n",
    "<b>Comentario del revisor</b> <a class=\"tocSkip\"></a>\n",
    "\n",
    "¡Muy bien! Los datos de tipo fecha se han tratado correctamente.\n",
    "</div>"
   ]
  },
  {
   "cell_type": "markdown",
   "metadata": {},
   "source": [
    "Como se menciono anteriormente se convirtieron las fechas al formato correcto en cada uno de las columna que se identifico anteriormente."
   ]
  },
  {
   "cell_type": "code",
   "execution_count": 8,
   "metadata": {},
   "outputs": [
    {
     "name": "stdout",
     "output_type": "stream",
     "text": [
      "\n",
      " Valores nulos por dataset:\n",
      "user_id    0\n",
      "group      0\n",
      "ab_test    0\n",
      "dtype: int64 \n",
      "\n",
      "user_id            0\n",
      "event_dt           0\n",
      "event_name         0\n",
      "details       363447\n",
      "dtype: int64 \n",
      "\n",
      "user_id       0\n",
      "first_date    0\n",
      "region        0\n",
      "device        0\n",
      "dtype: int64 \n",
      "\n",
      "name         0\n",
      "regions      0\n",
      "start_dt     0\n",
      "finish_dt    0\n",
      "dtype: int64 \n",
      "\n"
     ]
    }
   ],
   "source": [
    "# Verificar valores nulos\n",
    "print(\"\\n Valores nulos por dataset:\")\n",
    "print(df_participants.isnull().sum(), \"\\n\")\n",
    "print(df_events.isnull().sum(), \"\\n\")\n",
    "print(df_new_users.isnull().sum(), \"\\n\")\n",
    "print(df_marketing.isnull().sum(), \"\\n\")"
   ]
  },
  {
   "cell_type": "code",
   "execution_count": 9,
   "metadata": {},
   "outputs": [
    {
     "name": "stdout",
     "output_type": "stream",
     "text": [
      "\n",
      " Usuarios duplicados eliminados. Total de usuarios únicos en prueba A/B: 13638\n"
     ]
    }
   ],
   "source": [
    "# Eliminar usuarios duplicados en `df_participants`\n",
    "df_participants = df_participants.drop_duplicates(subset=['user_id'])\n",
    "print(f\"\\n Usuarios duplicados eliminados. Total de usuarios únicos en prueba A/B: {df_participants.shape[0]}\")"
   ]
  },
  {
   "cell_type": "markdown",
   "metadata": {},
   "source": [
    "<div class=\"alert alert-block alert-success\">\n",
    "<b>Comentario del revisor</b> <a class=\"tocSkip\"></a>\n",
    "\n",
    "Los usuarios duplicados se han eliminado correctamente.\n",
    "</div>"
   ]
  },
  {
   "cell_type": "markdown",
   "metadata": {},
   "source": [
    "A continuación, se eliminaron los usuarios duplicados, ya que podrían interferir en la realización de las pruebas A/B, dejando solo usuarios únicos."
   ]
  },
  {
   "cell_type": "code",
   "execution_count": 10,
   "metadata": {},
   "outputs": [
    {
     "name": "stdout",
     "output_type": "stream",
     "text": [
      "\n",
      " Número de usuarios por grupo:\n",
      "A    7758\n",
      "B    5880\n",
      "Name: group, dtype: int64\n"
     ]
    }
   ],
   "source": [
    "# Verificacion de grupos A y B\n",
    "\n",
    "# Unir `df_events` con `df_participants` para agregar el grupo de cada usuario\n",
    "df_events = df_events.merge(df_participants[['user_id', 'group']], on='user_id', how='left')\n",
    "\n",
    "# Verificar tamaño de cada grupo\n",
    "group_counts = df_participants['group'].value_counts()\n",
    "print(\"\\n Número de usuarios por grupo:\")\n",
    "print(group_counts)\n"
   ]
  },
  {
   "cell_type": "markdown",
   "metadata": {},
   "source": [
    "Se agrupó el DataFrame Events con Participants para verificar el tamaño de cada grupo, obteniéndose que el grupo A es significativamente mayor que el grupo B, con casi 2000 usuarios adicionales. Aunque esta diferencia no invalida la prueba A/B, es fundamental considerar su impacto en la representatividad de los resultados. Para garantizar la validez del análisis, se aplicarán pruebas estadísticas como la prueba Z para comparar las proporciones entre ambos grupos. Además, se evaluará la diferencia en las tasas de conversión en cada etapa del embudo (product_page → product_cart → purchase) para determinar si el nuevo sistema de recomendaciones ha tenido un efecto significativo."
   ]
  },
  {
   "cell_type": "markdown",
   "metadata": {},
   "source": [
    "<div class=\"alert alert-block alert-success\">\n",
    "<b>Comentario del revisor</b> <a class=\"tocSkip\"></a>\n",
    "\n",
    "¡Muy bien! El número de usuarios por grupo se ha encontrado de manera correcta.\n",
    "</div>"
   ]
  },
  {
   "cell_type": "code",
   "execution_count": 11,
   "metadata": {},
   "outputs": [
    {
     "name": "stdout",
     "output_type": "stream",
     "text": [
      "\n",
      " Distribución de dispositivos por grupo:\n",
      "device   Android      Mac        PC    iPhone\n",
      "group                                        \n",
      "A       0.440191  0.10067  0.261408  0.197731\n",
      "B       0.457823  0.10051  0.246599  0.195068\n"
     ]
    }
   ],
   "source": [
    "#Comparar distribución de dispositivos\n",
    "device_distribution = df_new_users.merge(df_participants[['user_id', 'group']], on=\"user_id\", how=\"left\") \\\n",
    "                                  .groupby(\"group\")[\"device\"].value_counts(normalize=True).unstack()\n",
    "print(\"\\n Distribución de dispositivos por grupo:\")\n",
    "print(device_distribution)"
   ]
  },
  {
   "cell_type": "markdown",
   "metadata": {},
   "source": [
    "Lo que se hizo en la linea pasada de codigo fue comparar la distribucion de cada grupo de acuerdo a su proporcion de venta por cada dispositivo, no se encontraron diferencias entre cada grupo incluido el grupo A correspondiente el control y el B. Esto puede indicar que si bien el grupo A es mayoritario no habria diferencia entre las proporciones al grupo B, permitiendo comparar los grupos."
   ]
  },
  {
   "cell_type": "markdown",
   "metadata": {},
   "source": [
    "<div class=\"alert alert-block alert-success\">\n",
    "<b>Comentario del revisor</b> <a class=\"tocSkip\"></a>\n",
    "\n",
    "Excelente trabajo con este desgloce de los datos por dispositivo se puede tener una mejor comprensión de los dos grupos y sus composiciones.\n",
    "</div>"
   ]
  },
  {
   "cell_type": "code",
   "execution_count": 12,
   "metadata": {},
   "outputs": [
    {
     "name": "stdout",
     "output_type": "stream",
     "text": [
      "\n",
      " Distribución de regiones por grupo:\n",
      "region      APAC       CIS        EU  N.America\n",
      "group                                          \n",
      "A       0.003609  0.002449  0.981567   0.012374\n",
      "B       0.002891  0.001871  0.991327   0.003912\n",
      "\n",
      " Distribución de eventos por grupo:\n",
      "event_name  login  product_cart  product_page  purchase\n",
      "group                                                  \n",
      "A           24043          7671         15872      8176\n",
      "B           18058          5944         11501      5858\n",
      "\n",
      " Usuarios que aparecen en ambos grupos: 0\n"
     ]
    }
   ],
   "source": [
    "# Comparar distribución de regiones\n",
    "region_distribution = df_new_users.merge(df_participants[['user_id', 'group']], on=\"user_id\", how=\"left\") \\\n",
    "                                  .groupby(\"group\")[\"region\"].value_counts(normalize=True).unstack()\n",
    "print(\"\\n Distribución de regiones por grupo:\")\n",
    "print(region_distribution)\n",
    "\n",
    "#Comparar frecuencia de eventos en cada grupo\n",
    "event_distribution = df_events.groupby([\"group\", \"event_name\"]).size().unstack().fillna(0)\n",
    "print(\"\\n Distribución de eventos por grupo:\")\n",
    "print(event_distribution)\n",
    "\n",
    "#Detección de usuarios que aparecen en ambos grupos\n",
    "duplicate_users = df_participants[df_participants.duplicated(subset=[\"user_id\"], keep=False)]\n",
    "print(f\"\\n Usuarios que aparecen en ambos grupos: {len(duplicate_users)}\")"
   ]
  },
  {
   "cell_type": "markdown",
   "metadata": {},
   "source": [
    "<div class=\"alert alert-block alert-success\">\n",
    "<b>Comentario del revisor</b> <a class=\"tocSkip\"></a>\n",
    "\n",
    "Bien, este análisis por región y evento es correcto.\n",
    "</div>"
   ]
  },
  {
   "cell_type": "markdown",
   "metadata": {},
   "source": [
    "Se realizó una comparación según la región de origen de cada usuario, observándose que las proporciones entre los grupos son bastante similares. Esto indica que la distribución geográfica no debería afectar la validez de la prueba A/B.\n",
    "Además, se analizó la conversión en cada etapa del embudo, desde login hasta purchase. Si bien los números absolutos muestran que el grupo A tiene más eventos que el grupo B, las proporciones de conversión se mantienen relativamente equilibradas. Esto sugiere que la prueba A/B sigue siendo válida, incluso con una diferencia significativa en el número de usuarios.\n",
    "Finalmente, se verificó que no existen usuarios duplicados entre los grupos, lo que garantiza su independencia y permite una comparación confiable de los resultados en la prueba A/B."
   ]
  },
  {
   "cell_type": "code",
   "execution_count": 13,
   "metadata": {},
   "outputs": [
    {
     "data": {
      "image/png": "[encoded data removed]",
      "text/plain": [
       "<Figure size 600x400 with 1 Axes>"
      ]
     },
     "metadata": {},
     "output_type": "display_data"
    }
   ],
   "source": [
    "#Visualización: Número de usuarios por grupo\n",
    "plt.figure(figsize=(6, 4))\n",
    "sns.barplot(x=group_counts.index, y=group_counts.values)\n",
    "plt.title(\"Distribución de usuarios en grupos A/B\")\n",
    "plt.ylabel(\"Cantidad de usuarios\")\n",
    "plt.xlabel(\"Grupo\")\n",
    "plt.show()"
   ]
  },
  {
   "cell_type": "markdown",
   "metadata": {},
   "source": [
    "<div class=\"alert alert-block alert-success\">\n",
    "<b>Comentario del revisor</b> <a class=\"tocSkip\"></a>\n",
    "\n",
    "Buena gráfica que muestra el tamaño de cada uno de los dos grupos.\n",
    "</div>"
   ]
  },
  {
   "cell_type": "markdown",
   "metadata": {},
   "source": [
    "Se graficó lo analizado previamente, donde se observa que el grupo A cuenta con una cantidad significativamente mayor de usuarios que el grupo B. Sin embargo, como se discutió anteriormente, esta diferencia no debería afectar la validez de la prueba A/B, dado que la asignación de usuarios fue equitativa en términos de dispositivos y regiones."
   ]
  },
  {
   "cell_type": "code",
   "execution_count": 14,
   "metadata": {},
   "outputs": [
    {
     "data": {
      "image/png": "[encoded data removed]",
      "text/plain": [
       "<Figure size 800x600 with 1 Axes>"
      ]
     },
     "metadata": {},
     "output_type": "display_data"
    },
    {
     "data": {
      "image/png": "[encoded data removed]",
      "text/plain": [
       "<Figure size 1200x600 with 1 Axes>"
      ]
     },
     "metadata": {},
     "output_type": "display_data"
    }
   ],
   "source": [
    "#ANÁLISIS EXPLORATORIO\n",
    "\n",
    "# Ver distribución de eventos por usuario en cada grupo\n",
    "events_per_user = df_events.groupby([\"user_id\", \"group\"])[\"event_name\"].count().reset_index()\n",
    "plt.figure(figsize=(8, 6))\n",
    "sns.boxplot(x=\"group\", y=\"event_name\", data=events_per_user)\n",
    "plt.title(\"Distribución de eventos por usuario en grupos A/B\")\n",
    "plt.ylabel(\"Número de eventos\")\n",
    "plt.xlabel(\"Grupo\")\n",
    "plt.show()\n",
    "\n",
    "# Visualización del embudo de conversión\n",
    "grouped_events = df_events.groupby([\"group\", \"event_name\"]).size().unstack().fillna(0)\n",
    "funnel = grouped_events[[\"product_page\", \"product_cart\", \"purchase\"]]\n",
    "funnel_percentage = funnel.div(funnel.sum(axis=1), axis=0) * 100\n",
    "\n",
    "funnel_percentage.plot(kind=\"bar\", stacked=True, figsize=(12,6))\n",
    "plt.title(\"Distribución de eventos en el embudo de conversión por grupo\")\n",
    "plt.ylabel(\"Porcentaje de eventos\")\n",
    "plt.xlabel(\"Grupo\")\n",
    "plt.legend(title=\"Eventos\")\n",
    "plt.show()"
   ]
  },
  {
   "cell_type": "markdown",
   "metadata": {},
   "source": [
    "Al graficar la distribución mediante un boxplot para los grupos A y B, se observa que ambas presentan distribuciones similares, lo que indica que no existen diferencias significativas entre ellos. Con este precedente, se evaluó también la proporción de cada uno de los eventos dentro del embudo de conversión. En este análisis, se evidencia que los grupos A y B tienen proporciones similares en cada etapa, a pesar de la diferencia en el tamaño de muestra."
   ]
  },
  {
   "cell_type": "markdown",
   "metadata": {},
   "source": [
    "<div class=\"alert alert-block alert-success\">\n",
    "<b>Comentario del revisor</b> <a class=\"tocSkip\"></a>\n",
    "\n",
    "Bien hecho, el boxplot es adecuado, me gusta que están en el mismo eje, eso facilita su comparación.\n",
    "</div>"
   ]
  },
  {
   "cell_type": "code",
   "execution_count": 15,
   "metadata": {},
   "outputs": [
    {
     "name": "stdout",
     "output_type": "stream",
     "text": [
      "\n",
      " **Prueba Z para evento `product_page` entre A y B:**\n",
      " Grupo A conversión: 28.46%, Grupo B conversión: 27.81%\n",
      "Z-score: 2.25, p-valor: 0.0243\n",
      "\n",
      " **Prueba Z para evento `product_cart` entre A y B:**\n",
      " Grupo A conversión: 13.76%, Grupo B conversión: 14.37%\n",
      "Z-score: -2.73, p-valor: 0.0064\n",
      "\n",
      " **Prueba Z para evento `purchase` entre A y B:**\n",
      " Grupo A conversión: 14.66%, Grupo B conversión: 14.16%\n",
      "Z-score: 2.19, p-valor: 0.0287\n",
      "\n",
      " **La prueba A/B muestra una diferencia estadística significativa entre los grupos.**\n"
     ]
    }
   ],
   "source": [
    "# Prueba Z para comparar estadistica en cada estapa\n",
    "\n",
    "def z_test(p1, n1, p2, n2):\n",
    "    p_combined = (p1*n1 + p2*n2) / (n1 + n2)\n",
    "    se_combined = (p_combined * (1 - p_combined) * (1/n1 + 1/n2)) ** 0.5\n",
    "    z_score = (p1 - p2) / se_combined\n",
    "    p_value = 2 * (1 - norm.cdf(abs(z_score)))  # Asegurar que el p-valor sea positivo\n",
    "    return z_score, p_value\n",
    "\n",
    "# Evaluar cada etapa del embudo con prueba Z\n",
    "for event in [\"product_page\", \"product_cart\", \"purchase\"]:\n",
    "    conv_A = grouped_events.loc[\"A\", event] / grouped_events.loc[\"A\"].sum()\n",
    "    conv_B = grouped_events.loc[\"B\", event] / grouped_events.loc[\"B\"].sum()\n",
    "    z_score, p_value = z_test(conv_A, grouped_events.loc[\"A\"].sum(), conv_B, grouped_events.loc[\"B\"].sum())\n",
    "\n",
    "    print(f\"\\n **Prueba Z para evento `{event}` entre A y B:**\")\n",
    "    print(f\" Grupo A conversión: {conv_A:.2%}, Grupo B conversión: {conv_B:.2%}\")\n",
    "    print(f\"Z-score: {z_score:.2f}, p-valor: {p_value:.4f}\")\n",
    "\n",
    "# Conclusión\n",
    "\n",
    "if p_value < 0.05:\n",
    "    print(\"\\n **La prueba A/B muestra una diferencia estadística significativa entre los grupos.**\")\n",
    "else:\n",
    "    print(\"\\n **No se encontró una diferencia estadística significativa en la conversión.**\")"
   ]
  },
  {
   "cell_type": "markdown",
   "metadata": {},
   "source": [
    "<div class=\"alert alert-block alert-success\">\n",
    "<b>Comentario del revisor</b> <a class=\"tocSkip\"></a>\n",
    "\n",
    "¡Excelente! Al ser una comparación de proporciones es una buena elección la prueba z, esta permite comparar mejor los eventos del embudo de eventos. Los p valores se han interpretado adecuadamente de acuerdo al valor de significancia.\n",
    "</div>"
   ]
  },
  {
   "cell_type": "markdown",
   "metadata": {},
   "source": [
    "Los resultados de la prueba A/B muestran diferencias estadísticamente significativas entre los grupos en distintas etapas del embudo de conversión. En el evento product_page, el grupo A obtuvo una mayor tasa de conversión, lo que indica que el nuevo sistema de recomendaciones logró atraer más visitas a la página del producto. Sin embargo, en product_cart, el grupo B tuvo una tasa de conversión superior, lo que sugiere que los usuarios en este grupo estaban más predispuestos a agregar productos al carrito. Finalmente, en purchase, el grupo A logró una conversión mayor, consolidando la hipótesis de que el sistema de recomendaciones tuvo un efecto positivo en la decisión de compra.\n",
    "Si bien el grupo A mostró ventajas en visitas a producto y compras, la caída en la conversión de agregar al carrito dentro del mismo grupo plantea una posible fricción en el proceso de compra. Esto sugiere que, aunque el sistema de recomendaciones logra atraer más tráfico y mejorar la conversión final, podría requerir mejoras en la etapa intermedia para evitar pérdidas entre los pasos."
   ]
  },
  {
   "cell_type": "markdown",
   "metadata": {},
   "source": [
    "<div class=\"alert alert-block alert-success\">\n",
    "<b>Comentario del revisor</b> <a class=\"tocSkip\"></a>\n",
    "\n",
    "¡Muy bien! Estas conclusiones están completas y bien hechas.\n",
    "</div>"
   ]
  },
  {
   "cell_type": "markdown",
   "metadata": {},
   "source": [
    "<div class=\"alert alert-block alert-success\">\n",
    "<b>Comentario del revisor</b> <a class=\"tocSkip\"></a>\n",
    "\n",
    "¡Hola!\n",
    "\n",
    "Te quiero felicitar por tu proyecto, está bastante completo y bien realizado. Lo que realizaste está muy consiso y va directo a los cálculos, muy bien. Me gustó especialmente la menra en que escribiste las pruebas de hipótesis y como usaste el if para poder verificar cualquiera de los dos casos para el p valor. Todo me parece completo y puedo aprobar tu proyecto, éxito en los siguientes sprints.\n",
    "\n",
    "Saludos, Marcos.\n",
    "</div>"
   ]
  },
  {
   "cell_type": "code",
   "execution_count": null,
   "metadata": {},
   "outputs": [],
   "source": []
  }
 ],
 "metadata": {
  "kernelspec": {
   "display_name": "Python 3 (ipykernel)",
   "language": "python",
   "name": "python3"
  },
  "language_info": {
   "codemirror_mode": {
    "name": "ipython",
    "version": 3
   },
   "file_extension": ".py",
   "mimetype": "text/x-python",
   "name": "python",
   "nbconvert_exporter": "python",
   "pygments_lexer": "ipython3",
   "version": "3.9.22"
  }
 },
 "nbformat": 4,
 "nbformat_minor": 4
}
